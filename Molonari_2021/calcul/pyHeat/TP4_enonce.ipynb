{
 "cells": [
  {
   "cell_type": "markdown",
   "metadata": {},
   "source": [
    "\n",
    "# TP 4 : Etude du fonctionnement du lit de la rivière en régime permanent hydraulique et transitoire thermique\n",
    "\n",
    "__3 séances__\n",
    "\n",
    "Pour clore cette série de travaux pratiques, nous allons maintenant nous intéresser à la résolution du transport de chaleur en régime permanent hydraulique et en régime transitoire thermique.\n",
    "\n",
    "## 1. Cadre théorique\n",
    "\n",
    "\n",
    "### 1.1 Forme générale\n",
    "\n",
    "\n",
    "On considère la convention de notation suivante. $\\boldsymbol{\\nabla}$ est un opérateur différenciel et $\\Delta$ le Laplacien. \n",
    "Les symboles en gras représentent des vecteurs. \n",
    "\n",
    "L'interface nappe-rivière est ici représentée par une portion de zone hyporhéique mono-dimensionnelle de hauteur h.\n",
    "\n",
    "Le couple d'équations régissant le transfert de chaleur correspond d'une part à la résolution du régime permanent hydraulique (loi de Darcy):\n",
    "\n",
    "$ \\boldsymbol{q} = -K \\boldsymbol{\\nabla} H $\n",
    "\n",
    "avec $\\boldsymbol{q}$, le débit spécifique [$m.s^{-1}$],  \n",
    "$H$, la charge [$m$]  \n",
    "$K$, la perméabilité [$m.s^{-1}$],\n",
    "\n",
    "Le système expérimental MOLONARI (MOnitoring LOcal des échanges NAppe-RIvière) permet de mesurer la différence de pression entre le haut et le bas de la colonne, qui est ainsi une donnée d'entrée du problème. A perméabilité considérée homogène le long de la colonne, le débit est ainsi évaluable pour le couplage avec l'équation de transfert de chaleur en régime permanent :\n",
    "\n",
    "$\\rho_m c_m \\dfrac{\\partial \\theta}{\\partial t} = - \\rho_w c_w \\boldsymbol{q} \\cdot \\boldsymbol{\\nabla} \\theta + \\lambda_m \\Delta \\theta$\n",
    "\n",
    "avec $\\theta$, la température [$K$],  \n",
    "$\\rho_i$, la densité de i [$kg.m^{-3}$],  \n",
    "$c_i$ la capacité calorifique spécifique de i [$J.kg^{-1}.K^{-1}$],  \n",
    "$\\lambda_i$ [$W.m^{-1}.K^{-1}$] la conductivité thermique de i,\n",
    "où $i \\in {s,w,m}$, avec s solide, w eau, m milieu poreux equivalent. \n",
    "\n",
    "$c_m\\rho_m$ est estimé à partir de moyenne volumique pondérée par la porosité $n$ du milieu, $ \\rho_m c_m = n \\rho_w c_w + (1 - n) \\rho_s c_s $\n",
    "\n",
    "La conductivité thermique du milieu poreux équivalent est estimée par la relation $\\lambda_m = \\left( n \\sqrt{\\lambda_w} + (1-n) \\sqrt{\\lambda_s} \\right)^2$.\n",
    "\n",
    "### 1.2 Réduction de l'espace des paramètres\n",
    "\n",
    "L'équation de transport de la chaleur peut être réécrite sous la forme :\n",
    "\n",
    "\n",
    "$ \\dfrac{\\partial \\theta}{\\partial t} = \\kappa_e \\Delta \\theta + \n",
    "\\alpha_e \\boldsymbol{\\nabla} H \\cdot \\boldsymbol{\\nabla} \\theta $\n",
    "\n",
    "avec $ \\kappa_e = \\dfrac{\\lambda_m}{ \\rho_m c_m }  $\n",
    "\n",
    "$ \\alpha_e = \\dfrac{\\rho_w c_w}{ \\rho_m c_m} K $\n",
    "\n",
    "\n",
    "$\\kappa_e$ [$m^2 s^{-1}$] et $\\alpha_e$ [$m s^{-1}$] sont des paramètres effectifs, dénommés respectivement conductivité effective (parfois dénommée effective diffusivité thermique) et paramètre advectif effectif.\n",
    "\n",
    "### 1.3 Propagation d'un signal périodique dans un milieu semi infini\n",
    "\n",
    "Il existe une solution analytique, fournie par Stallman (1965), à la propagation d'un signal de température sinusoïdal  à la surface d'un milieu poreux soumis à une différence de pressions ($\\Delta H$) constante au cours du temps. Le signal sinusoïdal est apliqué en haut de la colonne, dans un repère dont l'origine est en haut de la colonne et orienté vers le bas. Il a une amplitude  $\\theta_{amp}$ et une période P autour d'une valeur moyenne $\\theta_{\\mu}$. Cette solution s'écrit :\n",
    "\n",
    "$ \\theta(z,t)  = \\theta_{\\mu} + \\theta_{amp} e^{-az} \\cos\\left( \\dfrac{2 \\pi}{P} t - b z \\right) $  [eq.1]\n",
    "\n",
    "avec \n",
    "$ a  = \\dfrac{1}{2 \\kappa_e} \\left( \\sqrt{\\dfrac{\\sqrt{v_t^4 + (8 \\pi \\kappa_e / P)^2 } + v_t^2}{2}} - v_t \\right) $, \n",
    "\n",
    "$ b  = \\dfrac{1}{2 \\kappa_e}  \\sqrt{\\dfrac{\\sqrt{v_t^4 + (8 \\pi \\kappa_e / P)^2 } - v_t^2}{2}} $, \n",
    "\n",
    "$ v_t  = - \\alpha_e \\dfrac{\\partial H}{\\partial z} $\n",
    "\n",
    "\n",
    "Dans le cas conductif pur, la solution analytique s'écrit:\n",
    "\n",
    "$ \\theta(z,t)  = \\theta_{\\mu} + \\theta_{amp} e^{-\\sqrt{\\dfrac{\\pi}{\\kappa_e P}}z} \\cos\\left( \\dfrac{2 \\pi}{P} t - \\sqrt{\\dfrac{\\pi}{\\kappa_e P}} z \\right) $  [eq.1cond]\n",
    "\n",
    "\n",
    "\n",
    "### 1.4 Adaptation de pyHeat1D\n",
    "\n",
    "Le code pyHeat a été écrit avec un repère dont le 0 était situé en bas de colonne avec un repère des z orienté vers le haut. Modifier le code afin de rendre le repère compatible avec la solution analytique.\n",
    "\n",
    "\n",
    "\n",
    "\n"
   ]
  },
  {
   "cell_type": "markdown",
   "metadata": {},
   "source": [
    "\n",
    "## 2. Etude de cas\n",
    "\n",
    "Considérons une colonne de sol de 8 m de profondeur avec la conductivité thermique équivalente $\\lambda_m = 1 W.m^{-1}.K^{-1}$, la porosité $ n = 0.15$, et la capacité calorifique équivalente $\\rho_m c_m =  4e6 J.m^{-3}.K^{-1}$. La perméabilité est fixée à $8.10^{-4} m.s^{-1}$. Les paramètres hydrauliques sont renseignés dans le fichier paramHyd.json.\n",
    "\n",
    "\n",
    "### 2.1 Réponse de la zone hyporhéique à une sollicitation thermique périodique\n",
    "\n",
    "On considère un signal périodique en surface d'amplitude 1 K et une période de 720 heures (30 jours) autour d'un température moyenne de 12 °C.\n",
    "\n",
    "#### 2.1.1 Evolution de la température dans le milieu\n",
    "\n",
    "Tracer le profil des températures toutes les 30 heures pour les trois cas suivants :\n",
    "\n",
    "+ 1. vitesse de darcy vers le haut de 10e-6 $m. s^{-1}$\n",
    "+ 2. profil conductif pur\n",
    "+ 3.  vitesse de darcy vers le bas de 10e-6 $m. s^{-1}$\n",
    "\n",
    "Avant de démarrer, écrire une méthode permettant de forcer une simulation à partir de paramètres thermiques équivalents (conductivité thermique et capacité calorifique).\n",
    "\n",
    "Tracer également des frises temporelles représentant la matrice des températures dans l'espace (z,t). \n",
    "\n",
    "Commentez ces résultats."
   ]
  },
  {
   "cell_type": "markdown",
   "metadata": {},
   "source": [
    "#### 2.1.2 Quantifier et représentez les flux d'énergie relatifs à ces états thermiques\n",
    "\n",
    "Tracer également des frises temporelles représentant les flux de chaleur advectifs et conductifs relatifs aux trois cas précédents. Commentez ces résultats.\n"
   ]
  },
  {
   "cell_type": "markdown",
   "metadata": {},
   "source": [
    "#### 2.1.3 Profondeur de pénétration\n",
    "\n",
    "Par convention on considère que la profondeur de pénétration d'une onde est définie par la profondeur à partir de laquelle l'amplitude est amortie de $e^{-1}$, soit environ d'un tiers.\n",
    "\n",
    "__Calculer la profondeur de pénétration__\n"
   ]
  },
  {
   "cell_type": "markdown",
   "metadata": {},
   "source": [
    "__Tracer les profondeurs de pénétration__ pour des signaux périodiques dont la période varie entre 1hr et 1 an. Pour des vitesses descendantes, ascendantes variant en valeur absolue entre 10$^{-5}$ et 10$^{-8}$ m.s$^{-1}$. On utilisera des échelles log.\n",
    "\n",
    "Commentez ces résultats."
   ]
  },
  {
   "source": [
    "#### 2.1.4 Temps d'arrivée d'une perturbation à une profondeur donnée\n",
    "\n",
    "En analysant la composante ondulatoire de a solution analytique [eq.1], définir le __temps d'arrivée__ à une profondeur $z$ d'une perturbation de période $P$. En déterminer la vitesse la vitesse de propagation de l'onde.\n"
   ],
   "cell_type": "markdown",
   "metadata": {}
  },
  {
   "source": [
    "__Tracer les vitesses de propagation__ pour une gamme de vitesses variant entre 1e-5 m/s et 1e-8 m/s, et pour le cas conductif. Commentez vos résultats"
   ],
   "cell_type": "markdown",
   "metadata": {}
  },
  {
   "cell_type": "markdown",
   "metadata": {},
   "source": [
    "### 2.2 Sollicitations multi-périodiques\n",
    " \n",
    "On considère maintenant deux signaux périodiques emboîtés, l'un annuel (d'amplitude 6 °C), l'autre journalier d'amplitude 1°C.\n",
    "\n",
    "Représenter tout d'abord les deux influences séparemment puis voir comment elles se combinent dans le milieu pour les deux cas infliltrant et exfiltrant à une vitesse de Darcy de +/-10e-6 $m. s^{-1}$. Représentez les profils verticaux et les frises.\n",
    "\n",
    "Commentez les résultats obtenus."
   ]
  },
  {
   "source": [
    "# Synthèse du cours Flux d'eau et d'énergie\n",
    "\n",
    "Synthétiser les principales conclusions concernant les flux d'eau et de chaleur dans l'interface nappe-rivière, que vous tirez de l'ensemble des TP.\n",
    "\n",
    "Une synthèse d'environ 2-3 pages est attendue pour lundi soir 5/4/2021."
   ],
   "cell_type": "markdown",
   "metadata": {}
  }
 ],
 "metadata": {
  "kernelspec": {
   "display_name": "Python 3",
   "language": "python",
   "name": "python3"
  },
  "language_info": {
   "codemirror_mode": {
    "name": "ipython",
    "version": 2
   },
   "file_extension": ".py",
   "mimetype": "text/x-python",
   "name": "python",
   "nbconvert_exporter": "python",
   "pygments_lexer": "ipython2",
   "version": "3.8.5-final"
  }
 },
 "nbformat": 4,
 "nbformat_minor": 5
}